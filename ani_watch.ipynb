{
 "cells": [
  {
   "cell_type": "markdown",
   "metadata": {},
   "source": [
    "# Anime Project"
   ]
  },
  {
   "cell_type": "markdown",
   "metadata": {},
   "source": [
    "### Tasks:\n",
    "1. Extract data from ani-watch anime\n",
    "2. Transform the useful data\n",
    "3. Load it into a database"
   ]
  },
  {
   "cell_type": "markdown",
   "metadata": {},
   "source": [
    "## Staging"
   ]
  },
  {
   "cell_type": "code",
   "execution_count": 1,
   "metadata": {},
   "outputs": [],
   "source": [
    "import requests\n",
    "from bs4 import BeautifulSoup\n",
    "import pandas as pd\n",
    "import numpy as np\n",
    "from datetime import datetime, timedelta"
   ]
  },
  {
   "cell_type": "code",
   "execution_count": 2,
   "metadata": {},
   "outputs": [],
   "source": [
    "URL = 'https://aniwatch.to/recently-updated'\n",
    "res = requests.get(URL)"
   ]
  },
  {
   "cell_type": "code",
   "execution_count": 3,
   "metadata": {},
   "outputs": [],
   "source": [
    "soup = BeautifulSoup(res.text, \"html.parser\")"
   ]
  },
  {
   "cell_type": "markdown",
   "metadata": {},
   "source": [
    "## Extract"
   ]
  },
  {
   "cell_type": "code",
   "execution_count": 4,
   "metadata": {},
   "outputs": [],
   "source": [
    "recent_animes = soup.body.find(class_=\"film_list-wrap\").find_all(class_=\"flw-item\")"
   ]
  },
  {
   "cell_type": "code",
   "execution_count": 5,
   "metadata": {},
   "outputs": [
    {
     "data": {
      "text/plain": [
       "<div class=\"flw-item flw-item-big\">\n",
       "<div class=\"film-poster\">\n",
       "<div class=\"tick ltr\">\n",
       "<div class=\"tick-item tick-sub\"><i class=\"fas fa-closed-captioning mr-1\"></i>19</div>\n",
       "<div class=\"tick-item tick-eps\">54</div>\n",
       "</div>\n",
       "<img alt=\"Soul Land 2: Peerless Tang Sect\" class=\"film-poster-img lazyload\" data-src=\"https://img.flawlessfiles.com/_r/300x400/100/78/67/78670f95e8a9cdaaedc82e50c998674d/78670f95e8a9cdaaedc82e50c998674d.png\"/>\n",
       "<a class=\"film-poster-ahref item-qtip\" data-id=\"18416\" href=\"/soul-land-2-peerless-tang-sect-18416\" title=\"Soul Land 2: Peerless Tang Sect\"><i class=\"fas fa-play\"></i></a>\n",
       "</div>\n",
       "<div class=\"film-detail\">\n",
       "<h3 class=\"film-name\"><a class=\"dynamic-name\" data-jname=\"Douluo Dalu II: Jueshi Tangmen\" href=\"/soul-land-2-peerless-tang-sect-18416\" title=\"Soul Land 2: Peerless Tang Sect\">Soul Land 2: Peerless Tang Sect</a></h3>\n",
       "<div class=\"description\">\n",
       "            A strange continent in another world.  No magic, no battle qi, no martial arts, only martial spirits. Ten thousand years after the Tang clan was founded on the Douluo continent, the Tang clan has declined to the verge of extinction.  A whole new generation of proud talents has been born. Will the new generation of the Seven monsters of Shrek be able to reestablish the Tang Clan and compose a new tale of greatness for the unrivaled Tang Clan?\n",
       "        </div>\n",
       "<div class=\"fd-infor\">\n",
       "<span class=\"fdi-item\">ONA</span>\n",
       "<span class=\"dot\"></span>\n",
       "<span class=\"fdi-item fdi-duration\">20m</span>\n",
       "</div>\n",
       "</div>\n",
       "<div class=\"clearfix\"></div>\n",
       "</div>"
      ]
     },
     "execution_count": 5,
     "metadata": {},
     "output_type": "execute_result"
    }
   ],
   "source": [
    "recent_animes[1]"
   ]
  },
  {
   "cell_type": "code",
   "execution_count": 6,
   "metadata": {},
   "outputs": [],
   "source": [
    "data = []\n",
    "\n",
    "for anime in recent_animes:\n",
    "    try:\n",
    "        id =int(anime.find('a', class_='film-poster-ahref')['data-id'])\n",
    "        name = anime.find('a', class_='dynamic-name').text\n",
    "        sub = anime.find('div',class_='tick-sub')\n",
    "        sub = int(sub.text) if sub else sub\n",
    "        dub = anime.find('div',class_='tick-dub')\n",
    "        dub = int(dub.text) if dub else dub\n",
    "        description = anime.find('div', class_='description')\n",
    "        description = description.text.strip() if description else None\n",
    "        img_src = anime.find('img')\n",
    "        img_src = img_src['data-src'] if img_src else None\n",
    "\n",
    "        data.append((id,name,sub,dub,description,img_src))\n",
    "    except:\n",
    "        with open(\"log.txt\",'a') as file:\n",
    "            now = datetime.now().strftime(\"%Y-%m-%d %H:%M:%S\")\n",
    "            file.write(f'[{now}] ERROR: unable to extract data from following anime:\\n')\n",
    "            file.write(f\"{str(id)}, {name}\\n\")\n",
    "            file.write(f\"{str(id)}:\\n {anime}\\n\\n\")"
   ]
  },
  {
   "cell_type": "code",
   "execution_count": 7,
   "metadata": {},
   "outputs": [],
   "source": [
    "import pymysql\n",
    "\n",
    "cnx = pymysql.connect(host='myhpnet.duckdns.org',\n",
    "                      user='surya',\n",
    "                      password='Asspr2320',\n",
    "                      port=3306,\n",
    "                      database='myhpnet')\n",
    "with cnx:\n",
    "    with cnx.cursor() as cursor:\n",
    "        query=\"REPLACE INTO anime_watch(id, name, sub, dub, description, images)\\\n",
    "            VALUES (%s,%s,%s,%s,%s,%s)\"\n",
    "        for d in data:\n",
    "            cursor.execute(query,d)\n",
    "        cnx.commit()"
   ]
  },
  {
   "cell_type": "markdown",
   "metadata": {},
   "source": [
    "## Transform"
   ]
  },
  {
   "cell_type": "code",
   "execution_count": 13,
   "metadata": {},
   "outputs": [],
   "source": [
    "watching_anime = {\"One Peice\", \"The Demon Sword Master of Excalibur Academy\", \\\n",
    "    \"Berserk of Gluttony\", \"Am I Actually the Strongest?\",\\\n",
    "        \"Bleach: Thousand-Year Blood War - The Separation\"}"
   ]
  },
  {
   "cell_type": "code",
   "execution_count": 14,
   "metadata": {},
   "outputs": [],
   "source": [
    "anime_names = list(anime['name'])"
   ]
  },
  {
   "cell_type": "code",
   "execution_count": 20,
   "metadata": {},
   "outputs": [
    {
     "data": {
      "text/plain": [
       "['The Demon Sword Master of Excalibur Academy']"
      ]
     },
     "execution_count": 20,
     "metadata": {},
     "output_type": "execute_result"
    }
   ],
   "source": [
    "# Listing anime with new episodes to watch\n",
    "prev_anime = \"Berserk of Gluttony\"\n",
    "new_animes = anime_names[:anime_names.index(prev_anime)]\n",
    "\n",
    "anime_to_watch = []\n",
    "\n",
    "for anime in new_animes:\n",
    "    if anime in watching_anime:\n",
    "        anime_to_watch.append(anime)\n",
    "\n",
    "anime_to_watch"
   ]
  },
  {
   "cell_type": "code",
   "execution_count": 36,
   "metadata": {},
   "outputs": [
    {
     "data": {
      "text/plain": [
       "<pandas.core.indexes.accessors.TimedeltaProperties object at 0x13c3da470>"
      ]
     },
     "execution_count": 36,
     "metadata": {},
     "output_type": "execute_result"
    }
   ],
   "source": [
    "animes['datetime'].diff().dt"
   ]
  }
 ],
 "metadata": {
  "kernelspec": {
   "display_name": "Python 3",
   "language": "python",
   "name": "python3"
  },
  "language_info": {
   "codemirror_mode": {
    "name": "ipython",
    "version": 3
   },
   "file_extension": ".py",
   "mimetype": "text/x-python",
   "name": "python",
   "nbconvert_exporter": "python",
   "pygments_lexer": "ipython3",
   "version": "3.10.1"
  },
  "orig_nbformat": 4
 },
 "nbformat": 4,
 "nbformat_minor": 2
}
