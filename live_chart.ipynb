{
 "cells": [
  {
   "cell_type": "code",
   "execution_count": 2,
   "metadata": {},
   "outputs": [],
   "source": [
    "import requests\n",
    "from bs4 import BeautifulSoup\n",
    "import pandas as pd\n",
    "import numpy as np\n",
    "import json\n",
    "from collections import defaultdict\n",
    "from pathlib import Path\n",
    "from datetime import datetime, timedelta"
   ]
  },
  {
   "cell_type": "code",
   "execution_count": 3,
   "metadata": {},
   "outputs": [],
   "source": [
    "headers={\n",
    "    'Accept':'text/html,application/xhtml+xml,application/xml;q=0.9,image/avif,image/webp,image/apng,*/*;q=0.8,application/signed-exchange;v=b3;q=0.7',\n",
    "    'Accept-Encoding':'gzip',\n",
    "    'Accept-Language':'en-US,en;q=0.9,te;q=0.8',\n",
    "    'Cache-Control':'no-cache',\n",
    "    'Cookie':'_ga=GA1.3.1865816974.1657809308; preferences=%7B%22time_zone%22%3A%22America%2FNew_York%22%2C%22titles%22%3A%22romaji%22%7D; lang=%5B%22en-us%22%2C%22en%22%2C%22te%22%5D; cf_clearance=ciqXyh4RrB5k2P46hWN77AAfvFXTaHWoBYLYrAxU2l8-1688253416-0-150; _gid=GA1.3.133754087.1697915088; __Host-livechart_session=lI3nAwfvTq%2BXLhtlg0ZnSy6YPGiBldr%2ByqLX2LYawSfqlRcqig4Os1aX%2BUf7BCxsxyOxEBDxbxiacf8CYV%2FF4ZZoMTugAgHmXT0jh2VWrx5K0wWLppxMEnydmes4rCidwUOJxp%2FsxeoRhoqtWf%2BgZdWejpB6%2Fbo7B4GK4MIN%2Bs4%2BA6WbvpQETtRhahsrVsHjkVdoRBiiSAUBD48GT4ZtHKd0yIvLZLnSVm7VvjC1CiLzzacLUvn6%2BRTuLIKnOpqRppandvpy5%2BfKPgsM3RBXWpGsuPp2RISd2N986eYxnaujZhBRuu31ZLs%2FiqAeaYfeYClmZ4Vr2JKir5pS0YmwHvY2TOgcuL25Gl681dFwANYG2CHKhCMH0RnpSEdyh1%2F5uwlwdoPkwvam3f3HpsVPqANc7HM%3D--RHYtmLMzYquLIrP6--fHoFJ6AZALzMJv%2FSJzHP%2Fw%3D%3D; _ga_B6ETE2XHBJ=GS1.3.1697949028.67.1.1697949053.0.0.0',\n",
    "    'Pragma':'no-cache',\n",
    "    'Sec-Ch-Ua-Mobile':'?0',\n",
    "    'Sec-Ch-Ua-Platform':'\"macOS\"',\n",
    "    'Sec-Fetch-Dest':'document',\n",
    "    'Sec-Fetch-Mode':'navigate',\n",
    "    'Sec-Fetch-Site':'none',\n",
    "    'Sec-Fetch-User':'?1',\n",
    "    'Upgrade-Insecure-Requests':'1',\n",
    "    'User-Agent':'Mozilla/5.0 (Macintosh; Intel Mac OS X 10_15_7) AppleWebKit/537.36 (KHTML, like Gecko) Chrome/118.0.0.0 Safari/537.36'\n",
    "}"
   ]
  },
  {
   "cell_type": "code",
   "execution_count": 4,
   "metadata": {},
   "outputs": [
    {
     "data": {
      "text/plain": [
       "<Response [200]>"
      ]
     },
     "execution_count": 4,
     "metadata": {},
     "output_type": "execute_result"
    }
   ],
   "source": [
    "domain = 'https://www.livechart.me'\n",
    "season = 'winter'\n",
    "year = 2023\n",
    "URL = f'{domain}/{season}-{year}/tv'\n",
    "res = requests.get(URL,headers=headers)\n",
    "res"
   ]
  },
  {
   "cell_type": "code",
   "execution_count": 5,
   "metadata": {},
   "outputs": [],
   "source": [
    "soup = BeautifulSoup(res.text, \"html.parser\")\n",
    "animes = soup.body.main.find_all('article',class_='anime')#, limit=25)\n",
    "library_entities = soup.body.find_all('script', id='library_entries')"
   ]
  },
  {
   "cell_type": "markdown",
   "metadata": {},
   "source": [
    "## Getting data on status of an anime"
   ]
  },
  {
   "cell_type": "code",
   "execution_count": 6,
   "metadata": {},
   "outputs": [
    {
     "data": {
      "text/plain": [
       "{'status': 'watching',\n",
       " 'episodes_watched': 0,\n",
       " 'rating': None,\n",
       " 'rewatches': 0,\n",
       " 'started_at': None,\n",
       " 'finished_at': None,\n",
       " 'notes': None}"
      ]
     },
     "execution_count": 6,
     "metadata": {},
     "output_type": "execute_result"
    }
   ],
   "source": [
    "anime_interests = json.loads(library_entities[0].text)\n",
    "anime_interests['321']"
   ]
  },
  {
   "cell_type": "code",
   "execution_count": null,
   "metadata": {},
   "outputs": [],
   "source": [
    "print(animes[0].prettify())"
   ]
  },
  {
   "cell_type": "markdown",
   "metadata": {},
   "source": [
    "### Function to log error in log file and json file"
   ]
  },
  {
   "cell_type": "code",
   "execution_count": 7,
   "metadata": {},
   "outputs": [],
   "source": [
    "log_path = Path('live_chart_errors.log')\n",
    "json_path = Path('live_chart_data.json')\n",
    "def record_error(title, finding, command, value, error, occured_at, season='winter', year='2024'):\n",
    "\n",
    "    ttime = occured_at.strftime('%Y-%m-%d %H:%M:%S')\n",
    "\n",
    "    with log_path.open('a') as file:\n",
    "        file.write(f\"[{ttime}] : error with finding the {finding} for anime('{title}')\\n\")\n",
    "        file.write(f\"Command : {command}\\n\")\n",
    "        file.write(f\"Result : {value}\\n\")\n",
    "        file.write(f\"Error : {error}\\n\\n\")\n",
    "\n",
    "    with open('live_chart_data.json', 'r') as file:\n",
    "        data = json.load(file)\n",
    "\n",
    "    data[f'{year}'] = data.get(f'{year}',{})\n",
    "    ex_data = data[year].get(season,{})\n",
    "    new_data = {'title': title,\n",
    "                'command': command,\n",
    "                'result': str(value),\n",
    "                'error': str(error),\n",
    "                'while_finding': finding}\n",
    "    ex_data[ttime] = ex_data.get(ttime,[])\n",
    "    ex_data[ttime].append(new_data)\n",
    "    data[year][season] = ex_data\n",
    "\n",
    "    with open('live_chart_data.json','w') as file:\n",
    "        json.dump(data, file, indent= 4)"
   ]
  },
  {
   "cell_type": "markdown",
   "metadata": {},
   "source": [
    "### Collecting Anime Data"
   ]
  },
  {
   "cell_type": "code",
   "execution_count": 8,
   "metadata": {},
   "outputs": [],
   "source": [
    "anime_data = {}\n",
    "\n",
    "# looping through animes on the website and creating a key-value pair in the anime_data\n",
    "now = datetime.now()\n",
    "for anime in animes:\n",
    "    try:\n",
    "        id = int(anime['data-anime-id'])\n",
    "\n",
    "        title = anime.h3.a.text\n",
    "\n",
    "        generes = [tag.text for tag in anime.ol.find_all('li')]\n",
    "\n",
    "        poster = anime.find('div',class_='poster-container')\n",
    "        next_ep = int(poster.time['data-label'][2:]) if poster.time else None\n",
    "        timestamp = poster.time['data-timestamp'] if poster.time else None\n",
    "        next_ep_datetime = datetime.fromtimestamp(int(timestamp)).strftime(\"%Y-%m-%d %H:%M:%S\") if timestamp else None\n",
    "        image = poster.img['src']\n",
    "\n",
    "        # Rating\n",
    "        try:\n",
    "            rating = float(poster.find('div',class_='anime-extras').text)\n",
    "        except Exception as e:\n",
    "            record_error(title, 'rating', \"poster.find('div',class_='anime-extras')\", poster.find('div',class_='anime-extras'), e, now)\n",
    "            rating = 0\n",
    "\n",
    "        info = anime.find('div',class_='anime-info')\n",
    "\n",
    "        studios = [studio.text for studio in info.ul.find_all('li')]\n",
    "        anime_source = info.find('div',class_='anime-source')\n",
    "\n",
    "        # Number of Episodes and Anime Duration\n",
    "        try:\n",
    "            anime_eps = info.find('div',class_='anime-episodes').text.strip()\n",
    "            if '×' in anime_eps:\n",
    "                number_eps = anime_eps.split(' × ')[0].split(' ')[0]\n",
    "                number_eps = int(number_eps) if '?' not in number_eps else 0\n",
    "                anime_duration = int(anime_eps.split(' × ')[1][:-1])\n",
    "            else:\n",
    "                number_eps = 1\n",
    "                anime_duration = int(anime_eps[:-1])\n",
    "        except Exception as e:\n",
    "            record_error(title, 'number of episodes',\n",
    "                                \"info.find('div',class_='anime-episodes').text.strip()\",\n",
    "                                info.find('div',class_='anime-episodes').text.strip(),\n",
    "                                e, now)\n",
    "            number_eps = None\n",
    "            anime_duration = None\n",
    "\n",
    "        # Summary\n",
    "        try:\n",
    "            summary = '\\n'.join([p.text for p in info\n",
    "                            .find('div',class_='anime-synopsis')\n",
    "                            .find_all('p',class_=None)])\n",
    "        except Exception as e:\n",
    "            summary=''\n",
    "            record_error(title, 'summary',\n",
    "                                \"'\\n'.join([p.text for p in info\\\n",
    "                                .find('div',class_='anime-synopsis')\\\n",
    "                                .find_all('p',class_=None)])\",\n",
    "                                info.find('div',class_='anime-synopsis'),\n",
    "                                e, now)\n",
    "\n",
    "        # Information Source\n",
    "        try:\n",
    "            info_source = info.find('div',class_='anime-synopsis')\\\n",
    "                                .find('p',class_='text-italic').text.split(' ')[1][:-1]\n",
    "        except Exception as e:\n",
    "            record_error(title, 'anime_source',\n",
    "                                \"info.find('div',class_='anime-synopsis').find('p',class_='text-italic').text.split(' ')[1][:-1]\",\n",
    "                                info.find('div',class_='anime-synopsis'),\n",
    "                                e, now)\n",
    "            info_source = None\n",
    "\n",
    "        anime_data[str(id)]={\n",
    "            'title': title,\n",
    "            'year': year,\n",
    "            'season': season,\n",
    "            'generes': generes,\n",
    "            'next_ep': next_ep,\n",
    "            'next_ep_datetime': next_ep_datetime,\n",
    "            'image' : image,\n",
    "            'rating' :rating,\n",
    "            'number_eps' : number_eps,\n",
    "            'summary': summary,\n",
    "            'info_source' : info_source,\n",
    "            'status': anime_interests[str(id)].get('status',None)\n",
    "        }\n",
    "\n",
    "    except Exception as e:\n",
    "        record_error(title, 'FATAL ERROR',\n",
    "                                f\"Unexcpected error found while trying to extract data from {title} aime card\",\n",
    "                                'False',\n",
    "                                e, now)"
   ]
  },
  {
   "cell_type": "markdown",
   "metadata": {},
   "source": [
    "### Updating the Anime-data in the json file"
   ]
  },
  {
   "cell_type": "code",
   "execution_count": 9,
   "metadata": {},
   "outputs": [],
   "source": [
    "anime_file = 'anime_data.json'\n",
    "\n",
    "with open(anime_file, 'r') as file:\n",
    "    data = json.load(file)\n",
    "\n",
    "data |= anime_data\n",
    "\n",
    "with open(anime_file, 'w') as file:\n",
    "    json.dump(data, file, indent=4)"
   ]
  }
 ],
 "metadata": {
  "kernelspec": {
   "display_name": "Python 3",
   "language": "python",
   "name": "python3"
  },
  "language_info": {
   "codemirror_mode": {
    "name": "ipython",
    "version": 3
   },
   "file_extension": ".py",
   "mimetype": "text/x-python",
   "name": "python",
   "nbconvert_exporter": "python",
   "pygments_lexer": "ipython3",
   "version": "3.10.1"
  }
 },
 "nbformat": 4,
 "nbformat_minor": 2
}
